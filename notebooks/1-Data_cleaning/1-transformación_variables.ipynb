{
 "cells": [
  {
   "cell_type": "markdown",
   "metadata": {},
   "source": [
    "En este notebook se transformarán varios de los valores de las variables numéricas, ya que en su mayoría carecen de interpretabilidad"
   ]
  },
  {
   "cell_type": "markdown",
   "metadata": {},
   "source": [
    "# Lectura del dataset  "
   ]
  },
  {
   "cell_type": "code",
   "execution_count": 1,
   "metadata": {
    "id": "pB714rKWq1AI",
    "is_executing": true
   },
   "outputs": [],
   "source": [
    "import pandas as pd\n",
    "import matplotlib.pyplot as plt"
   ]
  },
  {
   "cell_type": "code",
   "execution_count": 2,
   "metadata": {
    "colab": {
     "base_uri": "https://localhost:8080/",
     "height": 444
    },
    "id": "hJvYCdDvqA7l",
    "outputId": "fa3bc636-eca8-4290-9a83-87087e0c68bd"
   },
   "outputs": [
    {
     "data": {
      "text/html": [
       "<div>\n",
       "<style scoped>\n",
       "    .dataframe tbody tr th:only-of-type {\n",
       "        vertical-align: middle;\n",
       "    }\n",
       "\n",
       "    .dataframe tbody tr th {\n",
       "        vertical-align: top;\n",
       "    }\n",
       "\n",
       "    .dataframe thead th {\n",
       "        text-align: right;\n",
       "    }\n",
       "</style>\n",
       "<table border=\"1\" class=\"dataframe\">\n",
       "  <thead>\n",
       "    <tr style=\"text-align: right;\">\n",
       "      <th></th>\n",
       "      <th>Gender</th>\n",
       "      <th>Age</th>\n",
       "      <th>Height</th>\n",
       "      <th>Weight</th>\n",
       "      <th>family_history_with_overweight</th>\n",
       "      <th>FAVC</th>\n",
       "      <th>FCVC</th>\n",
       "      <th>NCP</th>\n",
       "      <th>CAEC</th>\n",
       "      <th>SMOKE</th>\n",
       "      <th>CH2O</th>\n",
       "      <th>SCC</th>\n",
       "      <th>FAF</th>\n",
       "      <th>TUE</th>\n",
       "      <th>Bad_Habits</th>\n",
       "      <th>CALC</th>\n",
       "      <th>MTRANS</th>\n",
       "      <th>NObeyesdad</th>\n",
       "    </tr>\n",
       "  </thead>\n",
       "  <tbody>\n",
       "    <tr>\n",
       "      <th>0</th>\n",
       "      <td>Female</td>\n",
       "      <td>21</td>\n",
       "      <td>1.62</td>\n",
       "      <td>64</td>\n",
       "      <td>yes</td>\n",
       "      <td>no</td>\n",
       "      <td>2</td>\n",
       "      <td>3</td>\n",
       "      <td>Sometimes</td>\n",
       "      <td>no</td>\n",
       "      <td>2</td>\n",
       "      <td>no</td>\n",
       "      <td>0</td>\n",
       "      <td>1</td>\n",
       "      <td>1</td>\n",
       "      <td>no</td>\n",
       "      <td>Public_Transportation</td>\n",
       "      <td>Normal_Weight</td>\n",
       "    </tr>\n",
       "    <tr>\n",
       "      <th>1</th>\n",
       "      <td>Male</td>\n",
       "      <td>23</td>\n",
       "      <td>1.8</td>\n",
       "      <td>77</td>\n",
       "      <td>yes</td>\n",
       "      <td>no</td>\n",
       "      <td>2</td>\n",
       "      <td>3</td>\n",
       "      <td>Sometimes</td>\n",
       "      <td>no</td>\n",
       "      <td>2</td>\n",
       "      <td>no</td>\n",
       "      <td>2</td>\n",
       "      <td>1</td>\n",
       "      <td>1</td>\n",
       "      <td>Frequently</td>\n",
       "      <td>Public_Transportation</td>\n",
       "      <td>Normal_Weight</td>\n",
       "    </tr>\n",
       "    <tr>\n",
       "      <th>2</th>\n",
       "      <td>Male</td>\n",
       "      <td>27</td>\n",
       "      <td>1.8</td>\n",
       "      <td>87</td>\n",
       "      <td>no</td>\n",
       "      <td>no</td>\n",
       "      <td>3</td>\n",
       "      <td>3</td>\n",
       "      <td>Sometimes</td>\n",
       "      <td>no</td>\n",
       "      <td>2</td>\n",
       "      <td>no</td>\n",
       "      <td>2</td>\n",
       "      <td>0</td>\n",
       "      <td>1</td>\n",
       "      <td>Frequently</td>\n",
       "      <td>Walking</td>\n",
       "      <td>Overweight_Level_I</td>\n",
       "    </tr>\n",
       "    <tr>\n",
       "      <th>3</th>\n",
       "      <td>Male</td>\n",
       "      <td>22</td>\n",
       "      <td>1.78</td>\n",
       "      <td>89.8</td>\n",
       "      <td>no</td>\n",
       "      <td>no</td>\n",
       "      <td>2</td>\n",
       "      <td>1</td>\n",
       "      <td>Sometimes</td>\n",
       "      <td>no</td>\n",
       "      <td>2</td>\n",
       "      <td>no</td>\n",
       "      <td>0</td>\n",
       "      <td>0</td>\n",
       "      <td>1</td>\n",
       "      <td>Sometimes</td>\n",
       "      <td>Public_Transportation</td>\n",
       "      <td>Overweight_Level_II</td>\n",
       "    </tr>\n",
       "    <tr>\n",
       "      <th>4</th>\n",
       "      <td>Male</td>\n",
       "      <td>29</td>\n",
       "      <td>1.62</td>\n",
       "      <td>53</td>\n",
       "      <td>no</td>\n",
       "      <td>yes</td>\n",
       "      <td>2</td>\n",
       "      <td>3</td>\n",
       "      <td>Sometimes</td>\n",
       "      <td>no</td>\n",
       "      <td>2</td>\n",
       "      <td>no</td>\n",
       "      <td>0</td>\n",
       "      <td>0</td>\n",
       "      <td>1</td>\n",
       "      <td>Sometimes</td>\n",
       "      <td>Automobile</td>\n",
       "      <td>Normal_Weight</td>\n",
       "    </tr>\n",
       "    <tr>\n",
       "      <th>...</th>\n",
       "      <td>...</td>\n",
       "      <td>...</td>\n",
       "      <td>...</td>\n",
       "      <td>...</td>\n",
       "      <td>...</td>\n",
       "      <td>...</td>\n",
       "      <td>...</td>\n",
       "      <td>...</td>\n",
       "      <td>...</td>\n",
       "      <td>...</td>\n",
       "      <td>...</td>\n",
       "      <td>...</td>\n",
       "      <td>...</td>\n",
       "      <td>...</td>\n",
       "      <td>...</td>\n",
       "      <td>...</td>\n",
       "      <td>...</td>\n",
       "      <td>...</td>\n",
       "    </tr>\n",
       "    <tr>\n",
       "      <th>2131</th>\n",
       "      <td>Male</td>\n",
       "      <td>30.684.347</td>\n",
       "      <td>1.915</td>\n",
       "      <td>129.966.428</td>\n",
       "      <td>yes</td>\n",
       "      <td>yes</td>\n",
       "      <td>2.108.638</td>\n",
       "      <td>3</td>\n",
       "      <td>Sometimes</td>\n",
       "      <td>yes</td>\n",
       "      <td>1.014.876</td>\n",
       "      <td>no</td>\n",
       "      <td>0.987521</td>\n",
       "      <td>0.047473</td>\n",
       "      <td>0</td>\n",
       "      <td>Sometimes</td>\n",
       "      <td>Public_Transportation</td>\n",
       "      <td>Obesity_Type_II</td>\n",
       "    </tr>\n",
       "    <tr>\n",
       "      <th>2132</th>\n",
       "      <td>Male</td>\n",
       "      <td>31.205.668</td>\n",
       "      <td>1.877.732</td>\n",
       "      <td>127.161.381</td>\n",
       "      <td>yes</td>\n",
       "      <td>yes</td>\n",
       "      <td>2.731.368</td>\n",
       "      <td>3</td>\n",
       "      <td>Sometimes</td>\n",
       "      <td>yes</td>\n",
       "      <td>1.486.824</td>\n",
       "      <td>no</td>\n",
       "      <td>1.485.978</td>\n",
       "      <td>1.150.439</td>\n",
       "      <td>0</td>\n",
       "      <td>Sometimes</td>\n",
       "      <td>Public_Transportation</td>\n",
       "      <td>Obesity_Type_II</td>\n",
       "    </tr>\n",
       "    <tr>\n",
       "      <th>2133</th>\n",
       "      <td>Male</td>\n",
       "      <td>30.899.219</td>\n",
       "      <td>1.909.639</td>\n",
       "      <td>129.013.178</td>\n",
       "      <td>yes</td>\n",
       "      <td>yes</td>\n",
       "      <td>222.259</td>\n",
       "      <td>3</td>\n",
       "      <td>Sometimes</td>\n",
       "      <td>yes</td>\n",
       "      <td>1.591.909</td>\n",
       "      <td>no</td>\n",
       "      <td>1.392.026</td>\n",
       "      <td>0.917727</td>\n",
       "      <td>0</td>\n",
       "      <td>Sometimes</td>\n",
       "      <td>Public_Transportation</td>\n",
       "      <td>Obesity_Type_II</td>\n",
       "    </tr>\n",
       "    <tr>\n",
       "      <th>2134</th>\n",
       "      <td>Male</td>\n",
       "      <td>31.199.261</td>\n",
       "      <td>1.848.845</td>\n",
       "      <td>125.077.863</td>\n",
       "      <td>yes</td>\n",
       "      <td>yes</td>\n",
       "      <td>249.619</td>\n",
       "      <td>3</td>\n",
       "      <td>Sometimes</td>\n",
       "      <td>yes</td>\n",
       "      <td>1.662.117</td>\n",
       "      <td>no</td>\n",
       "      <td>0.992371</td>\n",
       "      <td>0.217632</td>\n",
       "      <td>0</td>\n",
       "      <td>Sometimes</td>\n",
       "      <td>Public_Transportation</td>\n",
       "      <td>Obesity_Type_II</td>\n",
       "    </tr>\n",
       "    <tr>\n",
       "      <th>2135</th>\n",
       "      <td>Male</td>\n",
       "      <td>31.190.219</td>\n",
       "      <td>1.842.812</td>\n",
       "      <td>125.973.927</td>\n",
       "      <td>yes</td>\n",
       "      <td>yes</td>\n",
       "      <td>2.151.335</td>\n",
       "      <td>3</td>\n",
       "      <td>Sometimes</td>\n",
       "      <td>yes</td>\n",
       "      <td>1.491.169</td>\n",
       "      <td>no</td>\n",
       "      <td>0.883542</td>\n",
       "      <td>0.527766</td>\n",
       "      <td>0</td>\n",
       "      <td>Sometimes</td>\n",
       "      <td>Public_Transportation</td>\n",
       "      <td>Obesity_Type_II</td>\n",
       "    </tr>\n",
       "  </tbody>\n",
       "</table>\n",
       "<p>2136 rows × 18 columns</p>\n",
       "</div>"
      ],
      "text/plain": [
       "      Gender         Age     Height       Weight  \\\n",
       "0     Female          21       1.62           64   \n",
       "1       Male          23        1.8           77   \n",
       "2       Male          27        1.8           87   \n",
       "3       Male          22       1.78         89.8   \n",
       "4       Male          29       1.62           53   \n",
       "...      ...         ...        ...          ...   \n",
       "2131    Male  30.684.347      1.915  129.966.428   \n",
       "2132    Male  31.205.668  1.877.732  127.161.381   \n",
       "2133    Male  30.899.219  1.909.639  129.013.178   \n",
       "2134    Male  31.199.261  1.848.845  125.077.863   \n",
       "2135    Male  31.190.219  1.842.812  125.973.927   \n",
       "\n",
       "     family_history_with_overweight FAVC       FCVC NCP       CAEC SMOKE  \\\n",
       "0                               yes   no          2   3  Sometimes    no   \n",
       "1                               yes   no          2   3  Sometimes    no   \n",
       "2                                no   no          3   3  Sometimes    no   \n",
       "3                                no   no          2   1  Sometimes    no   \n",
       "4                                no  yes          2   3  Sometimes    no   \n",
       "...                             ...  ...        ...  ..        ...   ...   \n",
       "2131                            yes  yes  2.108.638   3  Sometimes   yes   \n",
       "2132                            yes  yes  2.731.368   3  Sometimes   yes   \n",
       "2133                            yes  yes    222.259   3  Sometimes   yes   \n",
       "2134                            yes  yes    249.619   3  Sometimes   yes   \n",
       "2135                            yes  yes  2.151.335   3  Sometimes   yes   \n",
       "\n",
       "           CH2O SCC        FAF        TUE  Bad_Habits        CALC  \\\n",
       "0             2  no          0          1           1          no   \n",
       "1             2  no          2          1           1  Frequently   \n",
       "2             2  no          2          0           1  Frequently   \n",
       "3             2  no          0          0           1   Sometimes   \n",
       "4             2  no          0          0           1   Sometimes   \n",
       "...         ...  ..        ...        ...         ...         ...   \n",
       "2131  1.014.876  no   0.987521   0.047473           0   Sometimes   \n",
       "2132  1.486.824  no  1.485.978  1.150.439           0   Sometimes   \n",
       "2133  1.591.909  no  1.392.026   0.917727           0   Sometimes   \n",
       "2134  1.662.117  no   0.992371   0.217632           0   Sometimes   \n",
       "2135  1.491.169  no   0.883542   0.527766           0   Sometimes   \n",
       "\n",
       "                     MTRANS           NObeyesdad  \n",
       "0     Public_Transportation        Normal_Weight  \n",
       "1     Public_Transportation        Normal_Weight  \n",
       "2                   Walking   Overweight_Level_I  \n",
       "3     Public_Transportation  Overweight_Level_II  \n",
       "4                Automobile        Normal_Weight  \n",
       "...                     ...                  ...  \n",
       "2131  Public_Transportation      Obesity_Type_II  \n",
       "2132  Public_Transportation      Obesity_Type_II  \n",
       "2133  Public_Transportation      Obesity_Type_II  \n",
       "2134  Public_Transportation      Obesity_Type_II  \n",
       "2135  Public_Transportation      Obesity_Type_II  \n",
       "\n",
       "[2136 rows x 18 columns]"
      ]
     },
     "execution_count": 2,
     "metadata": {},
     "output_type": "execute_result"
    }
   ],
   "source": [
    "df = pd.read_csv('../../data/ObesityDataSet.csv', sep=';')\n",
    "df"
   ]
  },
  {
   "cell_type": "markdown",
   "metadata": {
    "id": "qIRl1zw1I1Vk"
   },
   "source": [
    "# Age, Height y Weight\n",
    "La transformación de los valores constará de 2 pasos:\n",
    "1. Obtención de los primeros 3 dígitos, para altura y peso, y 2 primeros para edad (ya que ningún individuo alcanza los 100)\n",
    "2. Transformación de los valores resultantes en las unidades deseadas (edad en años, altura en centímetros, peso en kilogramos)"
   ]
  },
  {
   "cell_type": "code",
   "execution_count": 3,
   "metadata": {
    "id": "3nREIuCVqGiA"
   },
   "outputs": [],
   "source": [
    "# Función para eliminar puntos y obtener los dos primeros dígitos\n",
    "def transformar_valor(valor,digits):\n",
    "    valor_sin_puntos = valor.replace('.', '')\n",
    "    return int(valor_sin_puntos[:digits]) if valor_sin_puntos else None"
   ]
  },
  {
   "cell_type": "code",
   "execution_count": 4,
   "metadata": {
    "id": "qUL0oknrxFVx"
   },
   "outputs": [],
   "source": [
    "df['Age'] = df['Age'].apply(transformar_valor, digits=2)\n",
    "df['Height'] = df['Height'].apply(transformar_valor, digits=3)\n",
    "df['Weight'] = df['Weight'].apply(transformar_valor, digits=3)"
   ]
  },
  {
   "cell_type": "code",
   "execution_count": 5,
   "metadata": {
    "colab": {
     "base_uri": "https://localhost:8080/"
    },
    "id": "-hhHYY3-cwyP",
    "outputId": "b9910c80-2e22-4efb-e6a0-1f32d26bedd1"
   },
   "outputs": [
    {
     "data": {
      "text/plain": [
       "count    2136.000000\n",
       "mean      159.364232\n",
       "std        39.934482\n",
       "min        15.000000\n",
       "25%       162.000000\n",
       "50%       169.000000\n",
       "75%       176.000000\n",
       "max       198.000000\n",
       "Name: Height, dtype: float64"
      ]
     },
     "execution_count": 5,
     "metadata": {},
     "output_type": "execute_result"
    }
   ],
   "source": [
    "df['Height'].describe()"
   ]
  },
  {
   "cell_type": "code",
   "execution_count": 6,
   "metadata": {
    "colab": {
     "base_uri": "https://localhost:8080/",
     "height": 444
    },
    "id": "QKDDfZySvvMY",
    "outputId": "a3b0016d-7493-40c9-92e3-053e98f32510"
   },
   "outputs": [
    {
     "data": {
      "text/html": [
       "<div>\n",
       "<style scoped>\n",
       "    .dataframe tbody tr th:only-of-type {\n",
       "        vertical-align: middle;\n",
       "    }\n",
       "\n",
       "    .dataframe tbody tr th {\n",
       "        vertical-align: top;\n",
       "    }\n",
       "\n",
       "    .dataframe thead th {\n",
       "        text-align: right;\n",
       "    }\n",
       "</style>\n",
       "<table border=\"1\" class=\"dataframe\">\n",
       "  <thead>\n",
       "    <tr style=\"text-align: right;\">\n",
       "      <th></th>\n",
       "      <th>Gender</th>\n",
       "      <th>Age</th>\n",
       "      <th>Height</th>\n",
       "      <th>Weight</th>\n",
       "      <th>family_history_with_overweight</th>\n",
       "      <th>FAVC</th>\n",
       "      <th>FCVC</th>\n",
       "      <th>NCP</th>\n",
       "      <th>CAEC</th>\n",
       "      <th>SMOKE</th>\n",
       "      <th>CH2O</th>\n",
       "      <th>SCC</th>\n",
       "      <th>FAF</th>\n",
       "      <th>TUE</th>\n",
       "      <th>Bad_Habits</th>\n",
       "      <th>CALC</th>\n",
       "      <th>MTRANS</th>\n",
       "      <th>NObeyesdad</th>\n",
       "    </tr>\n",
       "  </thead>\n",
       "  <tbody>\n",
       "    <tr>\n",
       "      <th>0</th>\n",
       "      <td>Female</td>\n",
       "      <td>21</td>\n",
       "      <td>162</td>\n",
       "      <td>64</td>\n",
       "      <td>yes</td>\n",
       "      <td>no</td>\n",
       "      <td>2</td>\n",
       "      <td>3</td>\n",
       "      <td>Sometimes</td>\n",
       "      <td>no</td>\n",
       "      <td>2</td>\n",
       "      <td>no</td>\n",
       "      <td>0</td>\n",
       "      <td>1</td>\n",
       "      <td>1</td>\n",
       "      <td>no</td>\n",
       "      <td>Public_Transportation</td>\n",
       "      <td>Normal_Weight</td>\n",
       "    </tr>\n",
       "    <tr>\n",
       "      <th>1</th>\n",
       "      <td>Male</td>\n",
       "      <td>23</td>\n",
       "      <td>18</td>\n",
       "      <td>77</td>\n",
       "      <td>yes</td>\n",
       "      <td>no</td>\n",
       "      <td>2</td>\n",
       "      <td>3</td>\n",
       "      <td>Sometimes</td>\n",
       "      <td>no</td>\n",
       "      <td>2</td>\n",
       "      <td>no</td>\n",
       "      <td>2</td>\n",
       "      <td>1</td>\n",
       "      <td>1</td>\n",
       "      <td>Frequently</td>\n",
       "      <td>Public_Transportation</td>\n",
       "      <td>Normal_Weight</td>\n",
       "    </tr>\n",
       "    <tr>\n",
       "      <th>2</th>\n",
       "      <td>Male</td>\n",
       "      <td>27</td>\n",
       "      <td>18</td>\n",
       "      <td>87</td>\n",
       "      <td>no</td>\n",
       "      <td>no</td>\n",
       "      <td>3</td>\n",
       "      <td>3</td>\n",
       "      <td>Sometimes</td>\n",
       "      <td>no</td>\n",
       "      <td>2</td>\n",
       "      <td>no</td>\n",
       "      <td>2</td>\n",
       "      <td>0</td>\n",
       "      <td>1</td>\n",
       "      <td>Frequently</td>\n",
       "      <td>Walking</td>\n",
       "      <td>Overweight_Level_I</td>\n",
       "    </tr>\n",
       "    <tr>\n",
       "      <th>3</th>\n",
       "      <td>Male</td>\n",
       "      <td>22</td>\n",
       "      <td>178</td>\n",
       "      <td>898</td>\n",
       "      <td>no</td>\n",
       "      <td>no</td>\n",
       "      <td>2</td>\n",
       "      <td>1</td>\n",
       "      <td>Sometimes</td>\n",
       "      <td>no</td>\n",
       "      <td>2</td>\n",
       "      <td>no</td>\n",
       "      <td>0</td>\n",
       "      <td>0</td>\n",
       "      <td>1</td>\n",
       "      <td>Sometimes</td>\n",
       "      <td>Public_Transportation</td>\n",
       "      <td>Overweight_Level_II</td>\n",
       "    </tr>\n",
       "    <tr>\n",
       "      <th>4</th>\n",
       "      <td>Male</td>\n",
       "      <td>29</td>\n",
       "      <td>162</td>\n",
       "      <td>53</td>\n",
       "      <td>no</td>\n",
       "      <td>yes</td>\n",
       "      <td>2</td>\n",
       "      <td>3</td>\n",
       "      <td>Sometimes</td>\n",
       "      <td>no</td>\n",
       "      <td>2</td>\n",
       "      <td>no</td>\n",
       "      <td>0</td>\n",
       "      <td>0</td>\n",
       "      <td>1</td>\n",
       "      <td>Sometimes</td>\n",
       "      <td>Automobile</td>\n",
       "      <td>Normal_Weight</td>\n",
       "    </tr>\n",
       "    <tr>\n",
       "      <th>...</th>\n",
       "      <td>...</td>\n",
       "      <td>...</td>\n",
       "      <td>...</td>\n",
       "      <td>...</td>\n",
       "      <td>...</td>\n",
       "      <td>...</td>\n",
       "      <td>...</td>\n",
       "      <td>...</td>\n",
       "      <td>...</td>\n",
       "      <td>...</td>\n",
       "      <td>...</td>\n",
       "      <td>...</td>\n",
       "      <td>...</td>\n",
       "      <td>...</td>\n",
       "      <td>...</td>\n",
       "      <td>...</td>\n",
       "      <td>...</td>\n",
       "      <td>...</td>\n",
       "    </tr>\n",
       "    <tr>\n",
       "      <th>2131</th>\n",
       "      <td>Male</td>\n",
       "      <td>30</td>\n",
       "      <td>191</td>\n",
       "      <td>129</td>\n",
       "      <td>yes</td>\n",
       "      <td>yes</td>\n",
       "      <td>2.108.638</td>\n",
       "      <td>3</td>\n",
       "      <td>Sometimes</td>\n",
       "      <td>yes</td>\n",
       "      <td>1.014.876</td>\n",
       "      <td>no</td>\n",
       "      <td>0.987521</td>\n",
       "      <td>0.047473</td>\n",
       "      <td>0</td>\n",
       "      <td>Sometimes</td>\n",
       "      <td>Public_Transportation</td>\n",
       "      <td>Obesity_Type_II</td>\n",
       "    </tr>\n",
       "    <tr>\n",
       "      <th>2132</th>\n",
       "      <td>Male</td>\n",
       "      <td>31</td>\n",
       "      <td>187</td>\n",
       "      <td>127</td>\n",
       "      <td>yes</td>\n",
       "      <td>yes</td>\n",
       "      <td>2.731.368</td>\n",
       "      <td>3</td>\n",
       "      <td>Sometimes</td>\n",
       "      <td>yes</td>\n",
       "      <td>1.486.824</td>\n",
       "      <td>no</td>\n",
       "      <td>1.485.978</td>\n",
       "      <td>1.150.439</td>\n",
       "      <td>0</td>\n",
       "      <td>Sometimes</td>\n",
       "      <td>Public_Transportation</td>\n",
       "      <td>Obesity_Type_II</td>\n",
       "    </tr>\n",
       "    <tr>\n",
       "      <th>2133</th>\n",
       "      <td>Male</td>\n",
       "      <td>30</td>\n",
       "      <td>190</td>\n",
       "      <td>129</td>\n",
       "      <td>yes</td>\n",
       "      <td>yes</td>\n",
       "      <td>222.259</td>\n",
       "      <td>3</td>\n",
       "      <td>Sometimes</td>\n",
       "      <td>yes</td>\n",
       "      <td>1.591.909</td>\n",
       "      <td>no</td>\n",
       "      <td>1.392.026</td>\n",
       "      <td>0.917727</td>\n",
       "      <td>0</td>\n",
       "      <td>Sometimes</td>\n",
       "      <td>Public_Transportation</td>\n",
       "      <td>Obesity_Type_II</td>\n",
       "    </tr>\n",
       "    <tr>\n",
       "      <th>2134</th>\n",
       "      <td>Male</td>\n",
       "      <td>31</td>\n",
       "      <td>184</td>\n",
       "      <td>125</td>\n",
       "      <td>yes</td>\n",
       "      <td>yes</td>\n",
       "      <td>249.619</td>\n",
       "      <td>3</td>\n",
       "      <td>Sometimes</td>\n",
       "      <td>yes</td>\n",
       "      <td>1.662.117</td>\n",
       "      <td>no</td>\n",
       "      <td>0.992371</td>\n",
       "      <td>0.217632</td>\n",
       "      <td>0</td>\n",
       "      <td>Sometimes</td>\n",
       "      <td>Public_Transportation</td>\n",
       "      <td>Obesity_Type_II</td>\n",
       "    </tr>\n",
       "    <tr>\n",
       "      <th>2135</th>\n",
       "      <td>Male</td>\n",
       "      <td>31</td>\n",
       "      <td>184</td>\n",
       "      <td>125</td>\n",
       "      <td>yes</td>\n",
       "      <td>yes</td>\n",
       "      <td>2.151.335</td>\n",
       "      <td>3</td>\n",
       "      <td>Sometimes</td>\n",
       "      <td>yes</td>\n",
       "      <td>1.491.169</td>\n",
       "      <td>no</td>\n",
       "      <td>0.883542</td>\n",
       "      <td>0.527766</td>\n",
       "      <td>0</td>\n",
       "      <td>Sometimes</td>\n",
       "      <td>Public_Transportation</td>\n",
       "      <td>Obesity_Type_II</td>\n",
       "    </tr>\n",
       "  </tbody>\n",
       "</table>\n",
       "<p>2136 rows × 18 columns</p>\n",
       "</div>"
      ],
      "text/plain": [
       "      Gender  Age  Height  Weight family_history_with_overweight FAVC  \\\n",
       "0     Female   21     162      64                            yes   no   \n",
       "1       Male   23      18      77                            yes   no   \n",
       "2       Male   27      18      87                             no   no   \n",
       "3       Male   22     178     898                             no   no   \n",
       "4       Male   29     162      53                             no  yes   \n",
       "...      ...  ...     ...     ...                            ...  ...   \n",
       "2131    Male   30     191     129                            yes  yes   \n",
       "2132    Male   31     187     127                            yes  yes   \n",
       "2133    Male   30     190     129                            yes  yes   \n",
       "2134    Male   31     184     125                            yes  yes   \n",
       "2135    Male   31     184     125                            yes  yes   \n",
       "\n",
       "           FCVC NCP       CAEC SMOKE       CH2O SCC        FAF        TUE  \\\n",
       "0             2   3  Sometimes    no          2  no          0          1   \n",
       "1             2   3  Sometimes    no          2  no          2          1   \n",
       "2             3   3  Sometimes    no          2  no          2          0   \n",
       "3             2   1  Sometimes    no          2  no          0          0   \n",
       "4             2   3  Sometimes    no          2  no          0          0   \n",
       "...         ...  ..        ...   ...        ...  ..        ...        ...   \n",
       "2131  2.108.638   3  Sometimes   yes  1.014.876  no   0.987521   0.047473   \n",
       "2132  2.731.368   3  Sometimes   yes  1.486.824  no  1.485.978  1.150.439   \n",
       "2133    222.259   3  Sometimes   yes  1.591.909  no  1.392.026   0.917727   \n",
       "2134    249.619   3  Sometimes   yes  1.662.117  no   0.992371   0.217632   \n",
       "2135  2.151.335   3  Sometimes   yes  1.491.169  no   0.883542   0.527766   \n",
       "\n",
       "      Bad_Habits        CALC                 MTRANS           NObeyesdad  \n",
       "0              1          no  Public_Transportation        Normal_Weight  \n",
       "1              1  Frequently  Public_Transportation        Normal_Weight  \n",
       "2              1  Frequently                Walking   Overweight_Level_I  \n",
       "3              1   Sometimes  Public_Transportation  Overweight_Level_II  \n",
       "4              1   Sometimes             Automobile        Normal_Weight  \n",
       "...          ...         ...                    ...                  ...  \n",
       "2131           0   Sometimes  Public_Transportation      Obesity_Type_II  \n",
       "2132           0   Sometimes  Public_Transportation      Obesity_Type_II  \n",
       "2133           0   Sometimes  Public_Transportation      Obesity_Type_II  \n",
       "2134           0   Sometimes  Public_Transportation      Obesity_Type_II  \n",
       "2135           0   Sometimes  Public_Transportation      Obesity_Type_II  \n",
       "\n",
       "[2136 rows x 18 columns]"
      ]
     },
     "execution_count": 6,
     "metadata": {},
     "output_type": "execute_result"
    }
   ],
   "source": [
    "df"
   ]
  },
  {
   "cell_type": "markdown",
   "metadata": {
    "id": "WyM0JziMINwd"
   },
   "source": [
    "Esta función pone la coma en los valores de los pesos mayores a 180 ,ya que el valor maximo del dataset es 173, por lo que los valores que sean mayores se corresponden a pesos que no todavía carecen de sentido (ej.: 673->67.3)\n"
   ]
  },
  {
   "cell_type": "code",
   "execution_count": 7,
   "metadata": {
    "id": "MxXdgx4DEbhk"
   },
   "outputs": [],
   "source": [
    "def transformar_columna(valor):\n",
    "    valor_float = float(valor)\n",
    "\n",
    "    # Verifica si el valor es mayor a 180 y lo convierte a decimal si es necesario\n",
    "    if valor_float > 180:\n",
    "        return valor_float / 10\n",
    "    else:\n",
    "        return valor_float\n",
    "\n",
    "df['Weight'] = df['Weight'].map(transformar_columna)"
   ]
  },
  {
   "cell_type": "code",
   "execution_count": 8,
   "metadata": {
    "id": "IyPl1AmAGC_n"
   },
   "outputs": [],
   "source": [
    "#Transformar loas valores de alturas que están en metros a centímetros\n",
    "def transformar_columna2(valor):\n",
    "    valor_float = float(valor)\n",
    "\n",
    "    # Verifica si el valor es menor a 100 y lo convierte a decimal si es necesario\n",
    "    if valor_float < 100:\n",
    "        return valor_float * 10\n",
    "    else:\n",
    "        return valor_float\n",
    "\n",
    "df['Height'] = df['Height'].map(transformar_columna2)"
   ]
  },
  {
   "cell_type": "code",
   "execution_count": 9,
   "metadata": {
    "colab": {
     "base_uri": "https://localhost:8080/",
     "height": 927
    },
    "id": "lypl4uJEXdPp",
    "outputId": "ac567f6b-384a-4008-86d4-918d7ed61f48"
   },
   "outputs": [
    {
     "data": {
      "image/png": "[encoded data removed]",
      "text/plain": [
       "<Figure size 640x480 with 1 Axes>"
      ]
     },
     "metadata": {},
     "output_type": "display_data"
    },
    {
     "data": {
      "image/png": "[encoded data removed]",
      "text/plain": [
       "<Figure size 640x480 with 1 Axes>"
      ]
     },
     "metadata": {},
     "output_type": "display_data"
    }
   ],
   "source": [
    "# Visualizar los valores en un histograma\n",
    "plt.hist(df['Age'], bins=10, edgecolor='black')\n",
    "plt.xlabel('Valores')\n",
    "plt.ylabel('Frecuencia')\n",
    "plt.title('Age')\n",
    "plt.show()\n",
    "\n",
    "# Visualizar los valores en un histograma\n",
    "plt.hist(df['Height'], bins=10, edgecolor='black')\n",
    "plt.xlabel('Valores')\n",
    "plt.ylabel('Frecuencia')\n",
    "plt.title('Height')\n",
    "plt.show()"
   ]
  },
  {
   "cell_type": "code",
   "execution_count": 10,
   "metadata": {
    "colab": {
     "base_uri": "https://localhost:8080/"
    },
    "id": "uT6jm1UbHVKr",
    "outputId": "f930503f-c7fa-45d1-e91b-bbdac4f709b8"
   },
   "outputs": [
    {
     "data": {
      "text/plain": [
       "count    2136.000000\n",
       "mean       85.985534\n",
       "std        26.133833\n",
       "min        39.000000\n",
       "25%        65.000000\n",
       "50%        82.500000\n",
       "75%       106.250000\n",
       "max       173.000000\n",
       "Name: Weight, dtype: float64"
      ]
     },
     "execution_count": 10,
     "metadata": {},
     "output_type": "execute_result"
    }
   ],
   "source": [
    "df['Weight'].describe()"
   ]
  },
  {
   "cell_type": "code",
   "execution_count": 11,
   "metadata": {
    "colab": {
     "base_uri": "https://localhost:8080/",
     "height": 472
    },
    "id": "90VtAYx5WYIp",
    "outputId": "ca539bdf-af7a-493a-902f-210d274fc0a6"
   },
   "outputs": [
    {
     "data": {
      "image/png": "[encoded data removed]",
      "text/plain": [
       "<Figure size 640x480 with 1 Axes>"
      ]
     },
     "metadata": {},
     "output_type": "display_data"
    }
   ],
   "source": [
    "# Visualizar los valores en un histograma\n",
    "plt.hist(df['Weight'], bins=10, edgecolor='black')\n",
    "plt.xlabel('Valores')\n",
    "plt.ylabel('Frecuencia')\n",
    "plt.title('Weight')\n",
    "plt.show()"
   ]
  },
  {
   "cell_type": "code",
   "execution_count": 12,
   "metadata": {
    "colab": {
     "base_uri": "https://localhost:8080/",
     "height": 444
    },
    "id": "8IRqCbzoAtkO",
    "outputId": "68cedb6d-3073-4f97-acdc-53e8195c9d72"
   },
   "outputs": [
    {
     "data": {
      "text/html": [
       "<div>\n",
       "<style scoped>\n",
       "    .dataframe tbody tr th:only-of-type {\n",
       "        vertical-align: middle;\n",
       "    }\n",
       "\n",
       "    .dataframe tbody tr th {\n",
       "        vertical-align: top;\n",
       "    }\n",
       "\n",
       "    .dataframe thead th {\n",
       "        text-align: right;\n",
       "    }\n",
       "</style>\n",
       "<table border=\"1\" class=\"dataframe\">\n",
       "  <thead>\n",
       "    <tr style=\"text-align: right;\">\n",
       "      <th></th>\n",
       "      <th>Gender</th>\n",
       "      <th>Age</th>\n",
       "      <th>Height</th>\n",
       "      <th>Weight</th>\n",
       "      <th>family_history_with_overweight</th>\n",
       "      <th>FAVC</th>\n",
       "      <th>FCVC</th>\n",
       "      <th>NCP</th>\n",
       "      <th>CAEC</th>\n",
       "      <th>SMOKE</th>\n",
       "      <th>CH2O</th>\n",
       "      <th>SCC</th>\n",
       "      <th>FAF</th>\n",
       "      <th>TUE</th>\n",
       "      <th>Bad_Habits</th>\n",
       "      <th>CALC</th>\n",
       "      <th>MTRANS</th>\n",
       "      <th>NObeyesdad</th>\n",
       "    </tr>\n",
       "  </thead>\n",
       "  <tbody>\n",
       "    <tr>\n",
       "      <th>0</th>\n",
       "      <td>Female</td>\n",
       "      <td>21</td>\n",
       "      <td>162.0</td>\n",
       "      <td>64.0</td>\n",
       "      <td>yes</td>\n",
       "      <td>no</td>\n",
       "      <td>2</td>\n",
       "      <td>3</td>\n",
       "      <td>Sometimes</td>\n",
       "      <td>no</td>\n",
       "      <td>2</td>\n",
       "      <td>no</td>\n",
       "      <td>0</td>\n",
       "      <td>1</td>\n",
       "      <td>1</td>\n",
       "      <td>no</td>\n",
       "      <td>Public_Transportation</td>\n",
       "      <td>Normal_Weight</td>\n",
       "    </tr>\n",
       "    <tr>\n",
       "      <th>1</th>\n",
       "      <td>Male</td>\n",
       "      <td>23</td>\n",
       "      <td>180.0</td>\n",
       "      <td>77.0</td>\n",
       "      <td>yes</td>\n",
       "      <td>no</td>\n",
       "      <td>2</td>\n",
       "      <td>3</td>\n",
       "      <td>Sometimes</td>\n",
       "      <td>no</td>\n",
       "      <td>2</td>\n",
       "      <td>no</td>\n",
       "      <td>2</td>\n",
       "      <td>1</td>\n",
       "      <td>1</td>\n",
       "      <td>Frequently</td>\n",
       "      <td>Public_Transportation</td>\n",
       "      <td>Normal_Weight</td>\n",
       "    </tr>\n",
       "    <tr>\n",
       "      <th>2</th>\n",
       "      <td>Male</td>\n",
       "      <td>27</td>\n",
       "      <td>180.0</td>\n",
       "      <td>87.0</td>\n",
       "      <td>no</td>\n",
       "      <td>no</td>\n",
       "      <td>3</td>\n",
       "      <td>3</td>\n",
       "      <td>Sometimes</td>\n",
       "      <td>no</td>\n",
       "      <td>2</td>\n",
       "      <td>no</td>\n",
       "      <td>2</td>\n",
       "      <td>0</td>\n",
       "      <td>1</td>\n",
       "      <td>Frequently</td>\n",
       "      <td>Walking</td>\n",
       "      <td>Overweight_Level_I</td>\n",
       "    </tr>\n",
       "    <tr>\n",
       "      <th>3</th>\n",
       "      <td>Male</td>\n",
       "      <td>22</td>\n",
       "      <td>178.0</td>\n",
       "      <td>89.8</td>\n",
       "      <td>no</td>\n",
       "      <td>no</td>\n",
       "      <td>2</td>\n",
       "      <td>1</td>\n",
       "      <td>Sometimes</td>\n",
       "      <td>no</td>\n",
       "      <td>2</td>\n",
       "      <td>no</td>\n",
       "      <td>0</td>\n",
       "      <td>0</td>\n",
       "      <td>1</td>\n",
       "      <td>Sometimes</td>\n",
       "      <td>Public_Transportation</td>\n",
       "      <td>Overweight_Level_II</td>\n",
       "    </tr>\n",
       "    <tr>\n",
       "      <th>4</th>\n",
       "      <td>Male</td>\n",
       "      <td>29</td>\n",
       "      <td>162.0</td>\n",
       "      <td>53.0</td>\n",
       "      <td>no</td>\n",
       "      <td>yes</td>\n",
       "      <td>2</td>\n",
       "      <td>3</td>\n",
       "      <td>Sometimes</td>\n",
       "      <td>no</td>\n",
       "      <td>2</td>\n",
       "      <td>no</td>\n",
       "      <td>0</td>\n",
       "      <td>0</td>\n",
       "      <td>1</td>\n",
       "      <td>Sometimes</td>\n",
       "      <td>Automobile</td>\n",
       "      <td>Normal_Weight</td>\n",
       "    </tr>\n",
       "    <tr>\n",
       "      <th>...</th>\n",
       "      <td>...</td>\n",
       "      <td>...</td>\n",
       "      <td>...</td>\n",
       "      <td>...</td>\n",
       "      <td>...</td>\n",
       "      <td>...</td>\n",
       "      <td>...</td>\n",
       "      <td>...</td>\n",
       "      <td>...</td>\n",
       "      <td>...</td>\n",
       "      <td>...</td>\n",
       "      <td>...</td>\n",
       "      <td>...</td>\n",
       "      <td>...</td>\n",
       "      <td>...</td>\n",
       "      <td>...</td>\n",
       "      <td>...</td>\n",
       "      <td>...</td>\n",
       "    </tr>\n",
       "    <tr>\n",
       "      <th>2131</th>\n",
       "      <td>Male</td>\n",
       "      <td>30</td>\n",
       "      <td>191.0</td>\n",
       "      <td>129.0</td>\n",
       "      <td>yes</td>\n",
       "      <td>yes</td>\n",
       "      <td>2.108.638</td>\n",
       "      <td>3</td>\n",
       "      <td>Sometimes</td>\n",
       "      <td>yes</td>\n",
       "      <td>1.014.876</td>\n",
       "      <td>no</td>\n",
       "      <td>0.987521</td>\n",
       "      <td>0.047473</td>\n",
       "      <td>0</td>\n",
       "      <td>Sometimes</td>\n",
       "      <td>Public_Transportation</td>\n",
       "      <td>Obesity_Type_II</td>\n",
       "    </tr>\n",
       "    <tr>\n",
       "      <th>2132</th>\n",
       "      <td>Male</td>\n",
       "      <td>31</td>\n",
       "      <td>187.0</td>\n",
       "      <td>127.0</td>\n",
       "      <td>yes</td>\n",
       "      <td>yes</td>\n",
       "      <td>2.731.368</td>\n",
       "      <td>3</td>\n",
       "      <td>Sometimes</td>\n",
       "      <td>yes</td>\n",
       "      <td>1.486.824</td>\n",
       "      <td>no</td>\n",
       "      <td>1.485.978</td>\n",
       "      <td>1.150.439</td>\n",
       "      <td>0</td>\n",
       "      <td>Sometimes</td>\n",
       "      <td>Public_Transportation</td>\n",
       "      <td>Obesity_Type_II</td>\n",
       "    </tr>\n",
       "    <tr>\n",
       "      <th>2133</th>\n",
       "      <td>Male</td>\n",
       "      <td>30</td>\n",
       "      <td>190.0</td>\n",
       "      <td>129.0</td>\n",
       "      <td>yes</td>\n",
       "      <td>yes</td>\n",
       "      <td>222.259</td>\n",
       "      <td>3</td>\n",
       "      <td>Sometimes</td>\n",
       "      <td>yes</td>\n",
       "      <td>1.591.909</td>\n",
       "      <td>no</td>\n",
       "      <td>1.392.026</td>\n",
       "      <td>0.917727</td>\n",
       "      <td>0</td>\n",
       "      <td>Sometimes</td>\n",
       "      <td>Public_Transportation</td>\n",
       "      <td>Obesity_Type_II</td>\n",
       "    </tr>\n",
       "    <tr>\n",
       "      <th>2134</th>\n",
       "      <td>Male</td>\n",
       "      <td>31</td>\n",
       "      <td>184.0</td>\n",
       "      <td>125.0</td>\n",
       "      <td>yes</td>\n",
       "      <td>yes</td>\n",
       "      <td>249.619</td>\n",
       "      <td>3</td>\n",
       "      <td>Sometimes</td>\n",
       "      <td>yes</td>\n",
       "      <td>1.662.117</td>\n",
       "      <td>no</td>\n",
       "      <td>0.992371</td>\n",
       "      <td>0.217632</td>\n",
       "      <td>0</td>\n",
       "      <td>Sometimes</td>\n",
       "      <td>Public_Transportation</td>\n",
       "      <td>Obesity_Type_II</td>\n",
       "    </tr>\n",
       "    <tr>\n",
       "      <th>2135</th>\n",
       "      <td>Male</td>\n",
       "      <td>31</td>\n",
       "      <td>184.0</td>\n",
       "      <td>125.0</td>\n",
       "      <td>yes</td>\n",
       "      <td>yes</td>\n",
       "      <td>2.151.335</td>\n",
       "      <td>3</td>\n",
       "      <td>Sometimes</td>\n",
       "      <td>yes</td>\n",
       "      <td>1.491.169</td>\n",
       "      <td>no</td>\n",
       "      <td>0.883542</td>\n",
       "      <td>0.527766</td>\n",
       "      <td>0</td>\n",
       "      <td>Sometimes</td>\n",
       "      <td>Public_Transportation</td>\n",
       "      <td>Obesity_Type_II</td>\n",
       "    </tr>\n",
       "  </tbody>\n",
       "</table>\n",
       "<p>2136 rows × 18 columns</p>\n",
       "</div>"
      ],
      "text/plain": [
       "      Gender  Age  Height  Weight family_history_with_overweight FAVC  \\\n",
       "0     Female   21   162.0    64.0                            yes   no   \n",
       "1       Male   23   180.0    77.0                            yes   no   \n",
       "2       Male   27   180.0    87.0                             no   no   \n",
       "3       Male   22   178.0    89.8                             no   no   \n",
       "4       Male   29   162.0    53.0                             no  yes   \n",
       "...      ...  ...     ...     ...                            ...  ...   \n",
       "2131    Male   30   191.0   129.0                            yes  yes   \n",
       "2132    Male   31   187.0   127.0                            yes  yes   \n",
       "2133    Male   30   190.0   129.0                            yes  yes   \n",
       "2134    Male   31   184.0   125.0                            yes  yes   \n",
       "2135    Male   31   184.0   125.0                            yes  yes   \n",
       "\n",
       "           FCVC NCP       CAEC SMOKE       CH2O SCC        FAF        TUE  \\\n",
       "0             2   3  Sometimes    no          2  no          0          1   \n",
       "1             2   3  Sometimes    no          2  no          2          1   \n",
       "2             3   3  Sometimes    no          2  no          2          0   \n",
       "3             2   1  Sometimes    no          2  no          0          0   \n",
       "4             2   3  Sometimes    no          2  no          0          0   \n",
       "...         ...  ..        ...   ...        ...  ..        ...        ...   \n",
       "2131  2.108.638   3  Sometimes   yes  1.014.876  no   0.987521   0.047473   \n",
       "2132  2.731.368   3  Sometimes   yes  1.486.824  no  1.485.978  1.150.439   \n",
       "2133    222.259   3  Sometimes   yes  1.591.909  no  1.392.026   0.917727   \n",
       "2134    249.619   3  Sometimes   yes  1.662.117  no   0.992371   0.217632   \n",
       "2135  2.151.335   3  Sometimes   yes  1.491.169  no   0.883542   0.527766   \n",
       "\n",
       "      Bad_Habits        CALC                 MTRANS           NObeyesdad  \n",
       "0              1          no  Public_Transportation        Normal_Weight  \n",
       "1              1  Frequently  Public_Transportation        Normal_Weight  \n",
       "2              1  Frequently                Walking   Overweight_Level_I  \n",
       "3              1   Sometimes  Public_Transportation  Overweight_Level_II  \n",
       "4              1   Sometimes             Automobile        Normal_Weight  \n",
       "...          ...         ...                    ...                  ...  \n",
       "2131           0   Sometimes  Public_Transportation      Obesity_Type_II  \n",
       "2132           0   Sometimes  Public_Transportation      Obesity_Type_II  \n",
       "2133           0   Sometimes  Public_Transportation      Obesity_Type_II  \n",
       "2134           0   Sometimes  Public_Transportation      Obesity_Type_II  \n",
       "2135           0   Sometimes  Public_Transportation      Obesity_Type_II  \n",
       "\n",
       "[2136 rows x 18 columns]"
      ]
     },
     "execution_count": 12,
     "metadata": {},
     "output_type": "execute_result"
    }
   ],
   "source": [
    "df"
   ]
  },
  {
   "cell_type": "markdown",
   "metadata": {
    "id": "8PyoaFx6Rqzz"
   },
   "source": [
    "# FCVC (Frequency of consumption of vegetables)\n",
    "Esta variable podrá tomar valores entre 1 y 3,siendo así una variable continua, la frecuencia se interpreta de la siguiente forma:\"3\" means \"Always\", \"2\" - \"Sometimes\", and \"1\" - \"Never\", "
   ]
  },
  {
   "cell_type": "code",
   "execution_count": 13,
   "metadata": {
    "id": "HpupP6bvSbeA"
   },
   "outputs": [],
   "source": [
    "df['FCVC'] = df['FCVC'].apply(transformar_valor, digits=3)"
   ]
  },
  {
   "cell_type": "code",
   "execution_count": 14,
   "metadata": {
    "colab": {
     "base_uri": "https://localhost:8080/"
    },
    "id": "s1oSruEIdBEH",
    "outputId": "40ef8935-312e-469f-f148-bea00473a45e"
   },
   "outputs": [
    {
     "data": {
      "text/plain": [
       "count    2136.000000\n",
       "mean       92.988764\n",
       "std       116.370908\n",
       "min         1.000000\n",
       "25%         2.000000\n",
       "50%         3.000000\n",
       "75%       218.000000\n",
       "max       299.000000\n",
       "Name: FCVC, dtype: float64"
      ]
     },
     "execution_count": 14,
     "metadata": {},
     "output_type": "execute_result"
    }
   ],
   "source": [
    "df['FCVC'].describe()"
   ]
  },
  {
   "cell_type": "code",
   "execution_count": 15,
   "metadata": {
    "id": "6cP3R4aJUgS3"
   },
   "outputs": [],
   "source": [
    "# Función para hacer decimales todos los valores a transformar (ej.: 239->2.39)\n",
    "def dividir_entre_10_si_no_es_123(valor):\n",
    "    if valor not in [1, 2, 3]:\n",
    "        return valor / 100\n",
    "    else:\n",
    "        return valor\n",
    "\n"
   ]
  },
  {
   "cell_type": "code",
   "execution_count": 16,
   "metadata": {
    "id": "8_KXPwrhVA_U"
   },
   "outputs": [],
   "source": [
    "# Aplicar la función a la columna del DataFrame usando map\n",
    "df['FCVC'] = df['FCVC'].map(dividir_entre_10_si_no_es_123)"
   ]
  },
  {
   "cell_type": "code",
   "execution_count": 17,
   "metadata": {
    "colab": {
     "base_uri": "https://localhost:8080/"
    },
    "id": "DzGQET3IS2CH",
    "outputId": "8bbed62f-bba2-45a4-87d5-f2f1743f6f7a"
   },
   "outputs": [
    {
     "name": "stdout",
     "output_type": "stream",
     "text": [
      "count    2136.000000\n",
      "mean        2.418132\n",
      "std         0.534713\n",
      "min         1.000000\n",
      "25%         2.000000\n",
      "50%         2.390000\n",
      "75%         3.000000\n",
      "max         3.000000\n",
      "Name: FCVC, dtype: float64\n"
     ]
    }
   ],
   "source": [
    "print(df['FCVC'].describe())"
   ]
  },
  {
   "cell_type": "code",
   "execution_count": 18,
   "metadata": {
    "colab": {
     "base_uri": "https://localhost:8080/",
     "height": 472
    },
    "id": "pcTEukdLWNAL",
    "outputId": "bf39cf12-6530-4526-b915-2cf87fcd2227"
   },
   "outputs": [
    {
     "data": {
      "image/png": "[encoded data removed]",
      "text/plain": [
       "<Figure size 640x480 with 1 Axes>"
      ]
     },
     "metadata": {},
     "output_type": "display_data"
    }
   ],
   "source": [
    "# Visualizar los valores en un histograma\n",
    "plt.hist(df['FCVC'], bins=10, edgecolor='black')\n",
    "plt.xlabel('Valores')\n",
    "plt.ylabel('Frecuencia')\n",
    "plt.title('FCVC')\n",
    "plt.show()"
   ]
  },
  {
   "cell_type": "markdown",
   "metadata": {
    "id": "By9t7gaYZHZH"
   },
   "source": [
    "# NCP(Number of main meals)\n",
    " Número de comidas principales al día: \"Between 1 and 2\", \"Three\", and \"More than three\". Instead of categorical, this feature also holds numerical values. Esta variable también la trartaremos como una continua, ya que es posible que los decimales puedan aportar información acerca de otras comidas que los individuos no consideran principales (\"picoteo\")"
   ]
  },
  {
   "cell_type": "code",
   "execution_count": 19,
   "metadata": {
    "id": "Ellk0m7eZHIe"
   },
   "outputs": [],
   "source": [
    "df['NCP'] = df['NCP'].apply(transformar_valor, digits=3)"
   ]
  },
  {
   "cell_type": "code",
   "execution_count": 20,
   "metadata": {
    "colab": {
     "base_uri": "https://localhost:8080/"
    },
    "id": "Le4penIqdxtI",
    "outputId": "615c5fe0-cd73-4e49-a2a6-a0bd12aeba33"
   },
   "outputs": [
    {
     "data": {
      "text/plain": [
       "count    2136.000000\n",
       "mean       77.777154\n",
       "std       122.327816\n",
       "min         1.000000\n",
       "25%         3.000000\n",
       "50%         3.000000\n",
       "75%       148.250000\n",
       "max       399.000000\n",
       "Name: NCP, dtype: float64"
      ]
     },
     "execution_count": 20,
     "metadata": {},
     "output_type": "execute_result"
    }
   ],
   "source": [
    "df['NCP'].describe()"
   ]
  },
  {
   "cell_type": "code",
   "execution_count": 21,
   "metadata": {
    "id": "IumGWdP8fs8T"
   },
   "outputs": [],
   "source": [
    "# Función para hacer decimales todos los valores a transformar (ej.: 239->2.39)\n",
    "def dividir_entre_10_si_no_es_1234(valor):\n",
    "    if valor not in [1, 2, 3, 4]:\n",
    "        return valor / 100\n",
    "    else:\n",
    "        return valor"
   ]
  },
  {
   "cell_type": "code",
   "execution_count": 22,
   "metadata": {
    "id": "ysxQV5q9ZSY7"
   },
   "outputs": [],
   "source": [
    "# Aplicar la función a la columna del DataFrame usando map\n",
    "df['NCP'] = df['NCP'].map(dividir_entre_10_si_no_es_1234)"
   ]
  },
  {
   "cell_type": "code",
   "execution_count": 23,
   "metadata": {
    "colab": {
     "base_uri": "https://localhost:8080/"
    },
    "id": "LqpKTqMlZXmM",
    "outputId": "c8e6c9b7-2c9d-4fd6-fb5e-37f58f860d47"
   },
   "outputs": [
    {
     "name": "stdout",
     "output_type": "stream",
     "text": [
      "count    2136.000000\n",
      "mean        2.690566\n",
      "std         0.779694\n",
      "min         1.000000\n",
      "25%         2.667500\n",
      "50%         3.000000\n",
      "75%         3.000000\n",
      "max         4.000000\n",
      "Name: NCP, dtype: float64\n"
     ]
    }
   ],
   "source": [
    "print(df['NCP'].describe())"
   ]
  },
  {
   "cell_type": "code",
   "execution_count": 24,
   "metadata": {
    "colab": {
     "base_uri": "https://localhost:8080/",
     "height": 472
    },
    "id": "2cL8ipYyZY1W",
    "outputId": "61adcfc2-47e0-42a4-d73e-65def6252884"
   },
   "outputs": [
    {
     "data": {
      "image/png": "[encoded data removed]",
      "text/plain": [
       "<Figure size 640x480 with 1 Axes>"
      ]
     },
     "metadata": {},
     "output_type": "display_data"
    }
   ],
   "source": [
    "# Visualizar los valores en un histograma\n",
    "plt.hist(df['NCP'], bins=10, edgecolor='black')\n",
    "plt.xlabel('Valores')\n",
    "plt.ylabel('Frecuencia')\n",
    "plt.title('NCP')\n",
    "plt.show()"
   ]
  },
  {
   "cell_type": "markdown",
   "metadata": {
    "id": "sUsTrWSLeuF6"
   },
   "source": [
    "# CH20(Consumption of water daily)\n",
    "Hábitos de consumo de agua: \"Less than a litter\", \"Between 1 and 2 L\", and \"More than 2 L\". Instead, the answeres are entered as continuous values. Pesé a que la mayoría de los valores se acumulen en 1,2 y 3, trataremos esta variable como un continuo ya que en los valores intermedios podría haber información relevante con respecto a dicho hábito.\n"
   ]
  },
  {
   "cell_type": "code",
   "execution_count": 25,
   "metadata": {
    "id": "RKZOjnIIet1D"
   },
   "outputs": [],
   "source": [
    "df['CH2O'] = df['CH2O'].apply(transformar_valor, digits=3)"
   ]
  },
  {
   "cell_type": "code",
   "execution_count": 26,
   "metadata": {
    "colab": {
     "base_uri": "https://localhost:8080/"
    },
    "id": "rZDRM1bTfRgV",
    "outputId": "f4482861-f2e3-4e71-f315-657b163fb354"
   },
   "outputs": [
    {
     "data": {
      "text/plain": [
       "count    2136.000000\n",
       "mean      125.822097\n",
       "std       108.250474\n",
       "min         1.000000\n",
       "25%         2.000000\n",
       "50%       140.000000\n",
       "75%       220.000000\n",
       "max       299.000000\n",
       "Name: CH2O, dtype: float64"
      ]
     },
     "execution_count": 26,
     "metadata": {},
     "output_type": "execute_result"
    }
   ],
   "source": [
    "df['CH2O'].describe()"
   ]
  },
  {
   "cell_type": "code",
   "execution_count": 27,
   "metadata": {
    "id": "SHo0NwNKfTNO"
   },
   "outputs": [],
   "source": [
    "# Aplicar la función a la columna del DataFrame usando map\n",
    "df['CH2O'] = df['CH2O'].map(dividir_entre_10_si_no_es_123)"
   ]
  },
  {
   "cell_type": "code",
   "execution_count": 28,
   "metadata": {
    "colab": {
     "base_uri": "https://localhost:8080/"
    },
    "id": "Or7NZLeOf7IW",
    "outputId": "84b94ed2-299c-49d2-9e01-a1ed79b620fc"
   },
   "outputs": [
    {
     "data": {
      "text/plain": [
       "count    2136.000000\n",
       "mean        2.002575\n",
       "std         0.612520\n",
       "min         1.000000\n",
       "25%         1.567500\n",
       "50%         2.000000\n",
       "75%         2.470000\n",
       "max         3.000000\n",
       "Name: CH2O, dtype: float64"
      ]
     },
     "execution_count": 28,
     "metadata": {},
     "output_type": "execute_result"
    }
   ],
   "source": [
    "df['CH2O'].describe()"
   ]
  },
  {
   "cell_type": "code",
   "execution_count": 29,
   "metadata": {
    "colab": {
     "base_uri": "https://localhost:8080/",
     "height": 472
    },
    "id": "0YV1Hq1vfU7g",
    "outputId": "29563fa4-b2e7-4fae-e5cd-bc53f5e98a55"
   },
   "outputs": [
    {
     "data": {
      "image/png": "[encoded data removed]",
      "text/plain": [
       "<Figure size 640x480 with 1 Axes>"
      ]
     },
     "metadata": {},
     "output_type": "display_data"
    }
   ],
   "source": [
    "# Visualizar los valores en un histograma\n",
    "plt.hist(df['CH2O'], bins=10, edgecolor='black')\n",
    "plt.xlabel('Valores')\n",
    "plt.ylabel('Frecuencia')\n",
    "plt.title('CH2O')\n",
    "plt.show()"
   ]
  },
  {
   "cell_type": "markdown",
   "metadata": {
    "id": "mUPJtg_WgOZ6"
   },
   "source": [
    "# FAF(Physical activity frequency)\n",
    "Actividad física, tenían que escoger 1 de 4 respuestas posibles: \"I do not have\", \"1 or 2 days\", \"2 or 4 days\", and \"4 or 5 days\". Al igual que en las anteriores variables, trataremos FAF como un continua para no descartar potencial información relevante"
   ]
  },
  {
   "cell_type": "code",
   "execution_count": 30,
   "metadata": {
    "id": "yFNQTZeOgUIe"
   },
   "outputs": [],
   "source": [
    "df['FAF'] = df['FAF'].apply(transformar_valor, digits=3)"
   ]
  },
  {
   "cell_type": "code",
   "execution_count": 31,
   "metadata": {
    "colab": {
     "base_uri": "https://localhost:8080/"
    },
    "id": "MTMKWkTYj9p6",
    "outputId": "6410a590-4de1-4f52-ac8c-d055295d7308"
   },
   "outputs": [
    {
     "data": {
      "text/plain": [
       "count    2136.000000\n",
       "mean       62.373127\n",
       "std        76.275495\n",
       "min         0.000000\n",
       "25%         1.000000\n",
       "50%        17.000000\n",
       "75%       115.250000\n",
       "max       299.000000\n",
       "Name: FAF, dtype: float64"
      ]
     },
     "execution_count": 31,
     "metadata": {},
     "output_type": "execute_result"
    }
   ],
   "source": [
    "df['FAF'].describe()"
   ]
  },
  {
   "cell_type": "code",
   "execution_count": 32,
   "metadata": {
    "id": "-FrzYeK1kZSU"
   },
   "outputs": [],
   "source": [
    "# Función para hacer decimales todos los valores a transformar (ej.: 239->2.39)\n",
    "def dividir_entre_10_si_no_es_0123(valor):\n",
    "    if valor not in [0, 1, 2, 3]:\n",
    "        return valor / 100\n",
    "    else:\n",
    "        return valor"
   ]
  },
  {
   "cell_type": "code",
   "execution_count": 33,
   "metadata": {
    "id": "D3nq2XBYj_df"
   },
   "outputs": [],
   "source": [
    "# Aplicar la función a la columna del DataFrame usando map\n",
    "df['FAF'] = df['FAF'].map(dividir_entre_10_si_no_es_0123)"
   ]
  },
  {
   "cell_type": "code",
   "execution_count": 34,
   "metadata": {
    "colab": {
     "base_uri": "https://localhost:8080/"
    },
    "id": "xx3cMhUlkAd9",
    "outputId": "cc385e9f-2b43-4ccd-a1f7-81340bcdc775"
   },
   "outputs": [
    {
     "data": {
      "text/plain": [
       "count    2136.000000\n",
       "mean        1.045037\n",
       "std         0.855676\n",
       "min         0.000000\n",
       "25%         0.170000\n",
       "50%         1.000000\n",
       "75%         1.730000\n",
       "max         3.000000\n",
       "Name: FAF, dtype: float64"
      ]
     },
     "execution_count": 34,
     "metadata": {},
     "output_type": "execute_result"
    }
   ],
   "source": [
    "df['FAF'].describe()"
   ]
  },
  {
   "cell_type": "code",
   "execution_count": 35,
   "metadata": {
    "colab": {
     "base_uri": "https://localhost:8080/",
     "height": 472
    },
    "id": "Ua8soPf4kBkS",
    "outputId": "3d54543e-c988-47a2-b5e2-b134a579fd16"
   },
   "outputs": [
    {
     "data": {
      "image/png": "[encoded data removed]",
      "text/plain": [
       "<Figure size 640x480 with 1 Axes>"
      ]
     },
     "metadata": {},
     "output_type": "display_data"
    }
   ],
   "source": [
    "# Visualizar los valores en un histograma\n",
    "plt.hist(df['FAF'], bins=10, edgecolor='black')\n",
    "plt.xlabel('Valores')\n",
    "plt.ylabel('Frecuencia')\n",
    "plt.title('FAF')\n",
    "plt.show()"
   ]
  },
  {
   "cell_type": "markdown",
   "metadata": {
    "id": "BIKcLbXvkzj3"
   },
   "source": [
    "# TUE(Time using technology devices)\n",
    "Tiempo de uso de aparatos tecnológicos como teléfonos móviles, videojuegos, television, ordenador, etc. Tenían que escoger entre \"0-2 hours\"=0, \"3-5 hours\"=1, and \"More than 5 hours\"=2. Los valores los transformaremos como continuos y no como categorías por la misma razón que en los casos anteriores."
   ]
  },
  {
   "cell_type": "code",
   "execution_count": 36,
   "metadata": {
    "id": "fjl-FMEslCzn"
   },
   "outputs": [],
   "source": [
    "df['TUE'] = df['TUE'].apply(transformar_valor, digits=3)"
   ]
  },
  {
   "cell_type": "code",
   "execution_count": 37,
   "metadata": {
    "colab": {
     "base_uri": "https://localhost:8080/"
    },
    "id": "5Q46ou-ZlREl",
    "outputId": "b6095c40-d097-4baf-a5bc-91090ab0ac6a"
   },
   "outputs": [
    {
     "data": {
      "text/plain": [
       "count    2136.000000\n",
       "mean       41.644663\n",
       "std        53.138912\n",
       "min         0.000000\n",
       "25%         0.000000\n",
       "50%        10.000000\n",
       "75%        76.000000\n",
       "max       199.000000\n",
       "Name: TUE, dtype: float64"
      ]
     },
     "execution_count": 37,
     "metadata": {},
     "output_type": "execute_result"
    }
   ],
   "source": [
    "df['TUE'].describe()"
   ]
  },
  {
   "cell_type": "code",
   "execution_count": 38,
   "metadata": {
    "id": "zl6WQZQtlSrF"
   },
   "outputs": [],
   "source": [
    "# Función para hacer decimales todos los valores a transformar (ej.: 239->2.39)\n",
    "def dividir_entre_10_si_no_es_012(valor):\n",
    "    if valor not in [0, 1, 2]:\n",
    "        return valor / 100\n",
    "    else:\n",
    "        return valor"
   ]
  },
  {
   "cell_type": "code",
   "execution_count": 39,
   "metadata": {
    "id": "lV9ncm0KlWpw"
   },
   "outputs": [],
   "source": [
    "# Aplicar la función a la columna del DataFrame usando map\n",
    "df['TUE'] = df['TUE'].map(dividir_entre_10_si_no_es_012)"
   ]
  },
  {
   "cell_type": "code",
   "execution_count": 40,
   "metadata": {
    "colab": {
     "base_uri": "https://localhost:8080/"
    },
    "id": "4_EHP3ZKlzJR",
    "outputId": "c637c5f4-f32e-4e6d-8ffc-36bb1269d95b"
   },
   "outputs": [
    {
     "data": {
      "text/plain": [
       "count    2136.000000\n",
       "mean        0.669972\n",
       "std         0.611928\n",
       "min         0.000000\n",
       "25%         0.000000\n",
       "50%         0.640000\n",
       "75%         1.000000\n",
       "max         2.000000\n",
       "Name: TUE, dtype: float64"
      ]
     },
     "execution_count": 40,
     "metadata": {},
     "output_type": "execute_result"
    }
   ],
   "source": [
    "df['TUE'].describe()"
   ]
  },
  {
   "cell_type": "code",
   "execution_count": 41,
   "metadata": {
    "colab": {
     "base_uri": "https://localhost:8080/",
     "height": 472
    },
    "id": "M27NxHHtl0bU",
    "outputId": "03823000-c934-4fd2-bdb8-105c1b9219ff"
   },
   "outputs": [
    {
     "data": {
      "image/png": "[encoded data removed]",
      "text/plain": [
       "<Figure size 640x480 with 1 Axes>"
      ]
     },
     "metadata": {},
     "output_type": "display_data"
    }
   ],
   "source": [
    "# Visualizar los valores en un histograma\n",
    "plt.hist(df['TUE'], bins=10, edgecolor='black')\n",
    "plt.xlabel('Valores')\n",
    "plt.ylabel('Frecuencia')\n",
    "plt.title('TUE')\n",
    "plt.show()"
   ]
  },
  {
   "cell_type": "code",
   "execution_count": 42,
   "metadata": {
    "colab": {
     "base_uri": "https://localhost:8080/",
     "height": 444
    },
    "id": "va4DFCyLnPSV",
    "outputId": "7ac16422-2a74-4e5d-d0cd-84c38eaccc88"
   },
   "outputs": [
    {
     "data": {
      "text/html": [
       "<div>\n",
       "<style scoped>\n",
       "    .dataframe tbody tr th:only-of-type {\n",
       "        vertical-align: middle;\n",
       "    }\n",
       "\n",
       "    .dataframe tbody tr th {\n",
       "        vertical-align: top;\n",
       "    }\n",
       "\n",
       "    .dataframe thead th {\n",
       "        text-align: right;\n",
       "    }\n",
       "</style>\n",
       "<table border=\"1\" class=\"dataframe\">\n",
       "  <thead>\n",
       "    <tr style=\"text-align: right;\">\n",
       "      <th></th>\n",
       "      <th>Gender</th>\n",
       "      <th>Age</th>\n",
       "      <th>Height</th>\n",
       "      <th>Weight</th>\n",
       "      <th>family_history_with_overweight</th>\n",
       "      <th>FAVC</th>\n",
       "      <th>FCVC</th>\n",
       "      <th>NCP</th>\n",
       "      <th>CAEC</th>\n",
       "      <th>SMOKE</th>\n",
       "      <th>CH2O</th>\n",
       "      <th>SCC</th>\n",
       "      <th>FAF</th>\n",
       "      <th>TUE</th>\n",
       "      <th>Bad_Habits</th>\n",
       "      <th>CALC</th>\n",
       "      <th>MTRANS</th>\n",
       "      <th>NObeyesdad</th>\n",
       "    </tr>\n",
       "  </thead>\n",
       "  <tbody>\n",
       "    <tr>\n",
       "      <th>0</th>\n",
       "      <td>Female</td>\n",
       "      <td>21</td>\n",
       "      <td>162.0</td>\n",
       "      <td>64.0</td>\n",
       "      <td>yes</td>\n",
       "      <td>no</td>\n",
       "      <td>2.00</td>\n",
       "      <td>3.0</td>\n",
       "      <td>Sometimes</td>\n",
       "      <td>no</td>\n",
       "      <td>2.00</td>\n",
       "      <td>no</td>\n",
       "      <td>0.00</td>\n",
       "      <td>1.00</td>\n",
       "      <td>1</td>\n",
       "      <td>no</td>\n",
       "      <td>Public_Transportation</td>\n",
       "      <td>Normal_Weight</td>\n",
       "    </tr>\n",
       "    <tr>\n",
       "      <th>1</th>\n",
       "      <td>Male</td>\n",
       "      <td>23</td>\n",
       "      <td>180.0</td>\n",
       "      <td>77.0</td>\n",
       "      <td>yes</td>\n",
       "      <td>no</td>\n",
       "      <td>2.00</td>\n",
       "      <td>3.0</td>\n",
       "      <td>Sometimes</td>\n",
       "      <td>no</td>\n",
       "      <td>2.00</td>\n",
       "      <td>no</td>\n",
       "      <td>2.00</td>\n",
       "      <td>1.00</td>\n",
       "      <td>1</td>\n",
       "      <td>Frequently</td>\n",
       "      <td>Public_Transportation</td>\n",
       "      <td>Normal_Weight</td>\n",
       "    </tr>\n",
       "    <tr>\n",
       "      <th>2</th>\n",
       "      <td>Male</td>\n",
       "      <td>27</td>\n",
       "      <td>180.0</td>\n",
       "      <td>87.0</td>\n",
       "      <td>no</td>\n",
       "      <td>no</td>\n",
       "      <td>3.00</td>\n",
       "      <td>3.0</td>\n",
       "      <td>Sometimes</td>\n",
       "      <td>no</td>\n",
       "      <td>2.00</td>\n",
       "      <td>no</td>\n",
       "      <td>2.00</td>\n",
       "      <td>0.00</td>\n",
       "      <td>1</td>\n",
       "      <td>Frequently</td>\n",
       "      <td>Walking</td>\n",
       "      <td>Overweight_Level_I</td>\n",
       "    </tr>\n",
       "    <tr>\n",
       "      <th>3</th>\n",
       "      <td>Male</td>\n",
       "      <td>22</td>\n",
       "      <td>178.0</td>\n",
       "      <td>89.8</td>\n",
       "      <td>no</td>\n",
       "      <td>no</td>\n",
       "      <td>2.00</td>\n",
       "      <td>1.0</td>\n",
       "      <td>Sometimes</td>\n",
       "      <td>no</td>\n",
       "      <td>2.00</td>\n",
       "      <td>no</td>\n",
       "      <td>0.00</td>\n",
       "      <td>0.00</td>\n",
       "      <td>1</td>\n",
       "      <td>Sometimes</td>\n",
       "      <td>Public_Transportation</td>\n",
       "      <td>Overweight_Level_II</td>\n",
       "    </tr>\n",
       "    <tr>\n",
       "      <th>4</th>\n",
       "      <td>Male</td>\n",
       "      <td>29</td>\n",
       "      <td>162.0</td>\n",
       "      <td>53.0</td>\n",
       "      <td>no</td>\n",
       "      <td>yes</td>\n",
       "      <td>2.00</td>\n",
       "      <td>3.0</td>\n",
       "      <td>Sometimes</td>\n",
       "      <td>no</td>\n",
       "      <td>2.00</td>\n",
       "      <td>no</td>\n",
       "      <td>0.00</td>\n",
       "      <td>0.00</td>\n",
       "      <td>1</td>\n",
       "      <td>Sometimes</td>\n",
       "      <td>Automobile</td>\n",
       "      <td>Normal_Weight</td>\n",
       "    </tr>\n",
       "    <tr>\n",
       "      <th>...</th>\n",
       "      <td>...</td>\n",
       "      <td>...</td>\n",
       "      <td>...</td>\n",
       "      <td>...</td>\n",
       "      <td>...</td>\n",
       "      <td>...</td>\n",
       "      <td>...</td>\n",
       "      <td>...</td>\n",
       "      <td>...</td>\n",
       "      <td>...</td>\n",
       "      <td>...</td>\n",
       "      <td>...</td>\n",
       "      <td>...</td>\n",
       "      <td>...</td>\n",
       "      <td>...</td>\n",
       "      <td>...</td>\n",
       "      <td>...</td>\n",
       "      <td>...</td>\n",
       "    </tr>\n",
       "    <tr>\n",
       "      <th>2131</th>\n",
       "      <td>Male</td>\n",
       "      <td>30</td>\n",
       "      <td>191.0</td>\n",
       "      <td>129.0</td>\n",
       "      <td>yes</td>\n",
       "      <td>yes</td>\n",
       "      <td>2.10</td>\n",
       "      <td>3.0</td>\n",
       "      <td>Sometimes</td>\n",
       "      <td>yes</td>\n",
       "      <td>1.01</td>\n",
       "      <td>no</td>\n",
       "      <td>0.98</td>\n",
       "      <td>0.04</td>\n",
       "      <td>0</td>\n",
       "      <td>Sometimes</td>\n",
       "      <td>Public_Transportation</td>\n",
       "      <td>Obesity_Type_II</td>\n",
       "    </tr>\n",
       "    <tr>\n",
       "      <th>2132</th>\n",
       "      <td>Male</td>\n",
       "      <td>31</td>\n",
       "      <td>187.0</td>\n",
       "      <td>127.0</td>\n",
       "      <td>yes</td>\n",
       "      <td>yes</td>\n",
       "      <td>2.73</td>\n",
       "      <td>3.0</td>\n",
       "      <td>Sometimes</td>\n",
       "      <td>yes</td>\n",
       "      <td>1.48</td>\n",
       "      <td>no</td>\n",
       "      <td>1.48</td>\n",
       "      <td>1.15</td>\n",
       "      <td>0</td>\n",
       "      <td>Sometimes</td>\n",
       "      <td>Public_Transportation</td>\n",
       "      <td>Obesity_Type_II</td>\n",
       "    </tr>\n",
       "    <tr>\n",
       "      <th>2133</th>\n",
       "      <td>Male</td>\n",
       "      <td>30</td>\n",
       "      <td>190.0</td>\n",
       "      <td>129.0</td>\n",
       "      <td>yes</td>\n",
       "      <td>yes</td>\n",
       "      <td>2.22</td>\n",
       "      <td>3.0</td>\n",
       "      <td>Sometimes</td>\n",
       "      <td>yes</td>\n",
       "      <td>1.59</td>\n",
       "      <td>no</td>\n",
       "      <td>1.39</td>\n",
       "      <td>0.91</td>\n",
       "      <td>0</td>\n",
       "      <td>Sometimes</td>\n",
       "      <td>Public_Transportation</td>\n",
       "      <td>Obesity_Type_II</td>\n",
       "    </tr>\n",
       "    <tr>\n",
       "      <th>2134</th>\n",
       "      <td>Male</td>\n",
       "      <td>31</td>\n",
       "      <td>184.0</td>\n",
       "      <td>125.0</td>\n",
       "      <td>yes</td>\n",
       "      <td>yes</td>\n",
       "      <td>2.49</td>\n",
       "      <td>3.0</td>\n",
       "      <td>Sometimes</td>\n",
       "      <td>yes</td>\n",
       "      <td>1.66</td>\n",
       "      <td>no</td>\n",
       "      <td>0.99</td>\n",
       "      <td>0.21</td>\n",
       "      <td>0</td>\n",
       "      <td>Sometimes</td>\n",
       "      <td>Public_Transportation</td>\n",
       "      <td>Obesity_Type_II</td>\n",
       "    </tr>\n",
       "    <tr>\n",
       "      <th>2135</th>\n",
       "      <td>Male</td>\n",
       "      <td>31</td>\n",
       "      <td>184.0</td>\n",
       "      <td>125.0</td>\n",
       "      <td>yes</td>\n",
       "      <td>yes</td>\n",
       "      <td>2.15</td>\n",
       "      <td>3.0</td>\n",
       "      <td>Sometimes</td>\n",
       "      <td>yes</td>\n",
       "      <td>1.49</td>\n",
       "      <td>no</td>\n",
       "      <td>0.88</td>\n",
       "      <td>0.52</td>\n",
       "      <td>0</td>\n",
       "      <td>Sometimes</td>\n",
       "      <td>Public_Transportation</td>\n",
       "      <td>Obesity_Type_II</td>\n",
       "    </tr>\n",
       "  </tbody>\n",
       "</table>\n",
       "<p>2136 rows × 18 columns</p>\n",
       "</div>"
      ],
      "text/plain": [
       "      Gender  Age  Height  Weight family_history_with_overweight FAVC  FCVC  \\\n",
       "0     Female   21   162.0    64.0                            yes   no  2.00   \n",
       "1       Male   23   180.0    77.0                            yes   no  2.00   \n",
       "2       Male   27   180.0    87.0                             no   no  3.00   \n",
       "3       Male   22   178.0    89.8                             no   no  2.00   \n",
       "4       Male   29   162.0    53.0                             no  yes  2.00   \n",
       "...      ...  ...     ...     ...                            ...  ...   ...   \n",
       "2131    Male   30   191.0   129.0                            yes  yes  2.10   \n",
       "2132    Male   31   187.0   127.0                            yes  yes  2.73   \n",
       "2133    Male   30   190.0   129.0                            yes  yes  2.22   \n",
       "2134    Male   31   184.0   125.0                            yes  yes  2.49   \n",
       "2135    Male   31   184.0   125.0                            yes  yes  2.15   \n",
       "\n",
       "      NCP       CAEC SMOKE  CH2O SCC   FAF   TUE  Bad_Habits        CALC  \\\n",
       "0     3.0  Sometimes    no  2.00  no  0.00  1.00           1          no   \n",
       "1     3.0  Sometimes    no  2.00  no  2.00  1.00           1  Frequently   \n",
       "2     3.0  Sometimes    no  2.00  no  2.00  0.00           1  Frequently   \n",
       "3     1.0  Sometimes    no  2.00  no  0.00  0.00           1   Sometimes   \n",
       "4     3.0  Sometimes    no  2.00  no  0.00  0.00           1   Sometimes   \n",
       "...   ...        ...   ...   ...  ..   ...   ...         ...         ...   \n",
       "2131  3.0  Sometimes   yes  1.01  no  0.98  0.04           0   Sometimes   \n",
       "2132  3.0  Sometimes   yes  1.48  no  1.48  1.15           0   Sometimes   \n",
       "2133  3.0  Sometimes   yes  1.59  no  1.39  0.91           0   Sometimes   \n",
       "2134  3.0  Sometimes   yes  1.66  no  0.99  0.21           0   Sometimes   \n",
       "2135  3.0  Sometimes   yes  1.49  no  0.88  0.52           0   Sometimes   \n",
       "\n",
       "                     MTRANS           NObeyesdad  \n",
       "0     Public_Transportation        Normal_Weight  \n",
       "1     Public_Transportation        Normal_Weight  \n",
       "2                   Walking   Overweight_Level_I  \n",
       "3     Public_Transportation  Overweight_Level_II  \n",
       "4                Automobile        Normal_Weight  \n",
       "...                     ...                  ...  \n",
       "2131  Public_Transportation      Obesity_Type_II  \n",
       "2132  Public_Transportation      Obesity_Type_II  \n",
       "2133  Public_Transportation      Obesity_Type_II  \n",
       "2134  Public_Transportation      Obesity_Type_II  \n",
       "2135  Public_Transportation      Obesity_Type_II  \n",
       "\n",
       "[2136 rows x 18 columns]"
      ]
     },
     "execution_count": 42,
     "metadata": {},
     "output_type": "execute_result"
    }
   ],
   "source": [
    "df"
   ]
  },
  {
   "cell_type": "code",
   "execution_count": 43,
   "metadata": {
    "colab": {
     "base_uri": "https://localhost:8080/",
     "height": 17
    },
    "id": "4L1-CuhQoIdO",
    "outputId": "9f58fe0e-965f-4078-d45f-19fb9cbc3e64"
   },
   "outputs": [],
   "source": [
    "df.to_csv('../../data/obesity_transform.csv', index = False)"
   ]
  }
 ],
 "metadata": {
  "colab": {
   "provenance": [],
   "toc_visible": true
  },
  "kernelspec": {
   "display_name": "Python 3",
   "name": "python3"
  },
  "language_info": {
   "codemirror_mode": {
    "name": "ipython",
    "version": 3
   },
   "file_extension": ".py",
   "mimetype": "text/x-python",
   "name": "python",
   "nbconvert_exporter": "python",
   "pygments_lexer": "ipython3",
   "version": "3.10.13"
  }
 },
 "nbformat": 4,
 "nbformat_minor": 0
}
