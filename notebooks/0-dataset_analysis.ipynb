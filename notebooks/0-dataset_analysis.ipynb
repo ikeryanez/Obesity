{
 "cells": [
  {
   "cell_type": "markdown",
   "metadata": {},
   "source": [
    "# Caso de uso"
   ]
  },
  {
   "cell_type": "markdown",
   "metadata": {},
   "source": [
    "Partiendo de los datos recopilados en un estudio exhaustivo sobre la obesidad, se llevará a cabo un trabajo de análisis y clasificación con el objetivo de brindar a las aseguradoras de salud la capacidad de ofrecer seguros personalizados a sus clientes. Este enfoque permitirá a las aseguradoras comprender mejor las necesidades y riesgos individuales de cada cliente, lo que a su vez les permitirá diseñar planes de seguro más adecuados y adaptados a las circunstancias específicas de cada persona."
   ]
  },
  {
   "cell_type": "markdown",
   "metadata": {},
   "source": [
    "# Datos"
   ]
  },
  {
   "cell_type": "markdown",
   "metadata": {},
   "source": [
    "Lectura del dataset"
   ]
  },
  {
   "cell_type": "code",
   "execution_count": 2,
   "metadata": {},
   "outputs": [
    {
     "data": {
      "text/html": [
       "<div>\n",
       "<style scoped>\n",
       "    .dataframe tbody tr th:only-of-type {\n",
       "        vertical-align: middle;\n",
       "    }\n",
       "\n",
       "    .dataframe tbody tr th {\n",
       "        vertical-align: top;\n",
       "    }\n",
       "\n",
       "    .dataframe thead th {\n",
       "        text-align: right;\n",
       "    }\n",
       "</style>\n",
       "<table border=\"1\" class=\"dataframe\">\n",
       "  <thead>\n",
       "    <tr style=\"text-align: right;\">\n",
       "      <th></th>\n",
       "      <th>Gender</th>\n",
       "      <th>Age</th>\n",
       "      <th>Height</th>\n",
       "      <th>Weight</th>\n",
       "      <th>family_history_with_overweight</th>\n",
       "      <th>FAVC</th>\n",
       "      <th>FCVC</th>\n",
       "      <th>NCP</th>\n",
       "      <th>CAEC</th>\n",
       "      <th>SMOKE</th>\n",
       "      <th>CH2O</th>\n",
       "      <th>SCC</th>\n",
       "      <th>FAF</th>\n",
       "      <th>TUE</th>\n",
       "      <th>Bad_Habits</th>\n",
       "      <th>CALC</th>\n",
       "      <th>MTRANS</th>\n",
       "      <th>NObeyesdad</th>\n",
       "    </tr>\n",
       "  </thead>\n",
       "  <tbody>\n",
       "    <tr>\n",
       "      <th>0</th>\n",
       "      <td>Female</td>\n",
       "      <td>21</td>\n",
       "      <td>1.62</td>\n",
       "      <td>64</td>\n",
       "      <td>yes</td>\n",
       "      <td>no</td>\n",
       "      <td>2</td>\n",
       "      <td>3</td>\n",
       "      <td>Sometimes</td>\n",
       "      <td>no</td>\n",
       "      <td>2</td>\n",
       "      <td>no</td>\n",
       "      <td>0</td>\n",
       "      <td>1</td>\n",
       "      <td>1</td>\n",
       "      <td>no</td>\n",
       "      <td>Public_Transportation</td>\n",
       "      <td>Normal_Weight</td>\n",
       "    </tr>\n",
       "    <tr>\n",
       "      <th>1</th>\n",
       "      <td>Male</td>\n",
       "      <td>23</td>\n",
       "      <td>1.8</td>\n",
       "      <td>77</td>\n",
       "      <td>yes</td>\n",
       "      <td>no</td>\n",
       "      <td>2</td>\n",
       "      <td>3</td>\n",
       "      <td>Sometimes</td>\n",
       "      <td>no</td>\n",
       "      <td>2</td>\n",
       "      <td>no</td>\n",
       "      <td>2</td>\n",
       "      <td>1</td>\n",
       "      <td>1</td>\n",
       "      <td>Frequently</td>\n",
       "      <td>Public_Transportation</td>\n",
       "      <td>Normal_Weight</td>\n",
       "    </tr>\n",
       "    <tr>\n",
       "      <th>2</th>\n",
       "      <td>Male</td>\n",
       "      <td>27</td>\n",
       "      <td>1.8</td>\n",
       "      <td>87</td>\n",
       "      <td>no</td>\n",
       "      <td>no</td>\n",
       "      <td>3</td>\n",
       "      <td>3</td>\n",
       "      <td>Sometimes</td>\n",
       "      <td>no</td>\n",
       "      <td>2</td>\n",
       "      <td>no</td>\n",
       "      <td>2</td>\n",
       "      <td>0</td>\n",
       "      <td>1</td>\n",
       "      <td>Frequently</td>\n",
       "      <td>Walking</td>\n",
       "      <td>Overweight_Level_I</td>\n",
       "    </tr>\n",
       "    <tr>\n",
       "      <th>3</th>\n",
       "      <td>Male</td>\n",
       "      <td>22</td>\n",
       "      <td>1.78</td>\n",
       "      <td>89.8</td>\n",
       "      <td>no</td>\n",
       "      <td>no</td>\n",
       "      <td>2</td>\n",
       "      <td>1</td>\n",
       "      <td>Sometimes</td>\n",
       "      <td>no</td>\n",
       "      <td>2</td>\n",
       "      <td>no</td>\n",
       "      <td>0</td>\n",
       "      <td>0</td>\n",
       "      <td>1</td>\n",
       "      <td>Sometimes</td>\n",
       "      <td>Public_Transportation</td>\n",
       "      <td>Overweight_Level_II</td>\n",
       "    </tr>\n",
       "    <tr>\n",
       "      <th>4</th>\n",
       "      <td>Male</td>\n",
       "      <td>29</td>\n",
       "      <td>1.62</td>\n",
       "      <td>53</td>\n",
       "      <td>no</td>\n",
       "      <td>yes</td>\n",
       "      <td>2</td>\n",
       "      <td>3</td>\n",
       "      <td>Sometimes</td>\n",
       "      <td>no</td>\n",
       "      <td>2</td>\n",
       "      <td>no</td>\n",
       "      <td>0</td>\n",
       "      <td>0</td>\n",
       "      <td>1</td>\n",
       "      <td>Sometimes</td>\n",
       "      <td>Automobile</td>\n",
       "      <td>Normal_Weight</td>\n",
       "    </tr>\n",
       "  </tbody>\n",
       "</table>\n",
       "</div>"
      ],
      "text/plain": [
       "   Gender Age Height Weight family_history_with_overweight FAVC FCVC NCP  \\\n",
       "0  Female  21   1.62     64                            yes   no    2   3   \n",
       "1    Male  23    1.8     77                            yes   no    2   3   \n",
       "2    Male  27    1.8     87                             no   no    3   3   \n",
       "3    Male  22   1.78   89.8                             no   no    2   1   \n",
       "4    Male  29   1.62     53                             no  yes    2   3   \n",
       "\n",
       "        CAEC SMOKE CH2O SCC FAF TUE  Bad_Habits        CALC  \\\n",
       "0  Sometimes    no    2  no   0   1           1          no   \n",
       "1  Sometimes    no    2  no   2   1           1  Frequently   \n",
       "2  Sometimes    no    2  no   2   0           1  Frequently   \n",
       "3  Sometimes    no    2  no   0   0           1   Sometimes   \n",
       "4  Sometimes    no    2  no   0   0           1   Sometimes   \n",
       "\n",
       "                  MTRANS           NObeyesdad  \n",
       "0  Public_Transportation        Normal_Weight  \n",
       "1  Public_Transportation        Normal_Weight  \n",
       "2                Walking   Overweight_Level_I  \n",
       "3  Public_Transportation  Overweight_Level_II  \n",
       "4             Automobile        Normal_Weight  "
      ]
     },
     "execution_count": 2,
     "metadata": {},
     "output_type": "execute_result"
    }
   ],
   "source": [
    "import pandas as pd\n",
    "\n",
    "df = pd.read_csv('../data/ObesityDataSet.csv', sep=';')\n",
    "df.head()"
   ]
  },
  {
   "cell_type": "markdown",
   "metadata": {},
   "source": [
    "Se procede a explorar las variables del dataset"
   ]
  },
  {
   "cell_type": "code",
   "execution_count": 4,
   "metadata": {},
   "outputs": [
    {
     "name": "stdout",
     "output_type": "stream",
     "text": [
      "<class 'pandas.core.frame.DataFrame'>\n",
      "RangeIndex: 2136 entries, 0 to 2135\n",
      "Data columns (total 18 columns):\n",
      " #   Column                          Non-Null Count  Dtype \n",
      "---  ------                          --------------  ----- \n",
      " 0   Gender                          2133 non-null   object\n",
      " 1   Age                             2136 non-null   object\n",
      " 2   Height                          2136 non-null   object\n",
      " 3   Weight                          2136 non-null   object\n",
      " 4   family_history_with_overweight  2136 non-null   object\n",
      " 5   FAVC                            2136 non-null   object\n",
      " 6   FCVC                            2136 non-null   object\n",
      " 7   NCP                             2136 non-null   object\n",
      " 8   CAEC                            2136 non-null   object\n",
      " 9   SMOKE                           2136 non-null   object\n",
      " 10  CH2O                            2136 non-null   object\n",
      " 11  SCC                             2136 non-null   object\n",
      " 12  FAF                             2136 non-null   object\n",
      " 13  TUE                             2136 non-null   object\n",
      " 14  Bad_Habits                      2136 non-null   int64 \n",
      " 15  CALC                            2136 non-null   object\n",
      " 16  MTRANS                          2131 non-null   object\n",
      " 17  NObeyesdad                      2136 non-null   object\n",
      "dtypes: int64(1), object(17)\n",
      "memory usage: 300.5+ KB\n"
     ]
    }
   ],
   "source": [
    "df.info()"
   ]
  },
  {
   "cell_type": "markdown",
   "metadata": {},
   "source": [
    "Por tanto, las variables con las que vamos a trabajar son:\n",
    "\n",
    "- Género\n",
    "- Edad\n",
    "- Altura y peso\n",
    "- Posesión de familiar con sobrepeso\n",
    "- Consumo frecuente de alimentos altos en calorías (FAVC)\n",
    "- Frecuencia de consumo de verduras (FCVC)\n",
    "- Número de comidas principales (NCP)\n",
    "- Consumo de alimentos entre comidas (CAEC)\n",
    "- Fumador o no fumador\n",
    "- Consumo diario de agua (CH2O)\n",
    "- Monitoreo del consumo de calorías (SCC)\n",
    "- Frecuencia de actividad física (FAF)\n",
    "- Tiempo de uso de dispositivos tecnológicos (TUE)\n",
    "- Malos hábitos reportados por el paciente \n",
    "- Consumo de alcohol (CALC)\n",
    "- Tipo de transporte utilizado (MTRANS)\n",
    "- Nivel de obesidad deducido (NObeyesdad)\n"
   ]
  },
  {
   "cell_type": "markdown",
   "metadata": {},
   "source": [
    "En este contexto, la variable que se va a tratar de predecir es \"NObeyesdad\", la que nos indica la categoría de peso en la que se encuentra el individuo. Se procede a explorar la variable."
   ]
  },
  {
   "cell_type": "code",
   "execution_count": 5,
   "metadata": {},
   "outputs": [
    {
     "data": {
      "text/plain": [
       "array(['Normal_Weight', 'Overweight_Level_I', 'Overweight_Level_II',\n",
       "       'Obesity_Type_I', 'Insufficient_Weight', 'Obesity_Type_II',\n",
       "       'Obesity_Type_III'], dtype=object)"
      ]
     },
     "execution_count": 5,
     "metadata": {},
     "output_type": "execute_result"
    }
   ],
   "source": [
    "df['NObeyesdad'].unique()"
   ]
  },
  {
   "cell_type": "markdown",
   "metadata": {},
   "source": [
    "Vemos que los individuos pueden encontrarse en 7 categorias de peso:\n",
    "\n",
    "- Peso insuficiente\n",
    "- Peso normal\n",
    "- Sobrepeso nivel I\n",
    "- Sobrepeso Nivel II\n",
    "- Obesidad Tipo I\n",
    "- Obesidad Tipo II\n",
    "- Obesidad Tipo III"
   ]
  },
  {
   "cell_type": "markdown",
   "metadata": {},
   "source": [
    "A continuación, vemos un primer vistazo de como se distribuyen los individuos en estas categorias de peso."
   ]
  },
  {
   "cell_type": "code",
   "execution_count": 6,
   "metadata": {},
   "outputs": [
    {
     "data": {
      "text/plain": [
       "NObeyesdad\n",
       "Obesity_Type_I         351\n",
       "Obesity_Type_III       324\n",
       "Insufficient_Weight    297\n",
       "Obesity_Type_II        297\n",
       "Overweight_Level_I     290\n",
       "Overweight_Level_II    290\n",
       "Normal_Weight          287\n",
       "Name: count, dtype: int64"
      ]
     },
     "execution_count": 6,
     "metadata": {},
     "output_type": "execute_result"
    }
   ],
   "source": [
    "df['NObeyesdad'].value_counts()\n"
   ]
  }
 ],
 "metadata": {
  "kernelspec": {
   "display_name": "pfg",
   "language": "python",
   "name": "python3"
  },
  "language_info": {
   "codemirror_mode": {
    "name": "ipython",
    "version": 3
   },
   "file_extension": ".py",
   "mimetype": "text/x-python",
   "name": "python",
   "nbconvert_exporter": "python",
   "pygments_lexer": "ipython3",
   "version": "3.10.13"
  }
 },
 "nbformat": 4,
 "nbformat_minor": 2
}
